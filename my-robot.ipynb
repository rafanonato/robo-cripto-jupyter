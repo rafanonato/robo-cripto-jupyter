{
 "cells": [
  {
   "cell_type": "code",
   "execution_count": 1,
   "metadata": {},
   "outputs": [
    {
     "ename": "ModuleNotFoundError",
     "evalue": "No module named 'simple_robot'",
     "output_type": "error",
     "traceback": [
      "\u001b[0;31m---------------------------------------------------------------------------\u001b[0m",
      "\u001b[0;31mModuleNotFoundError\u001b[0m                       Traceback (most recent call last)",
      "\u001b[0;32m/var/folders/3t/lbzqfqbn3373dpnxw4hbwg500000gn/T/ipykernel_21287/2533162126.py\u001b[0m in \u001b[0;36m<module>\u001b[0;34m\u001b[0m\n\u001b[1;32m      1\u001b[0m \u001b[0;32mimport\u001b[0m \u001b[0mpickle\u001b[0m\u001b[0;34m\u001b[0m\u001b[0;34m\u001b[0m\u001b[0m\n\u001b[1;32m      2\u001b[0m \u001b[0;32mimport\u001b[0m \u001b[0mtime\u001b[0m\u001b[0;34m\u001b[0m\u001b[0;34m\u001b[0m\u001b[0m\n\u001b[0;32m----> 3\u001b[0;31m \u001b[0;32mfrom\u001b[0m \u001b[0msimple_robot\u001b[0m \u001b[0;32mimport\u001b[0m \u001b[0mfeature_eng\u001b[0m\u001b[0;34m,\u001b[0m \u001b[0mapi_get\u001b[0m\u001b[0;34m,\u001b[0m \u001b[0mapi_post\u001b[0m\u001b[0;34m,\u001b[0m \u001b[0mget_result\u001b[0m\u001b[0;34m,\u001b[0m \u001b[0mcompute_quantity\u001b[0m\u001b[0;34m,\u001b[0m \u001b[0mhow_much_i_have\u001b[0m\u001b[0;34m\u001b[0m\u001b[0;34m\u001b[0m\u001b[0m\n\u001b[0m\u001b[1;32m      4\u001b[0m \u001b[0;32mimport\u001b[0m \u001b[0mnumpy\u001b[0m \u001b[0;32mas\u001b[0m \u001b[0mnp\u001b[0m\u001b[0;34m\u001b[0m\u001b[0;34m\u001b[0m\u001b[0m\n\u001b[1;32m      5\u001b[0m \u001b[0;32mimport\u001b[0m \u001b[0mpandas\u001b[0m \u001b[0;32mas\u001b[0m \u001b[0mpd\u001b[0m\u001b[0;34m\u001b[0m\u001b[0;34m\u001b[0m\u001b[0m\n",
      "\u001b[0;31mModuleNotFoundError\u001b[0m: No module named 'simple_robot'"
     ]
    }
   ],
   "source": [
    "import pickle\n",
    "import time\n",
    "from simple_robot import feature_eng, api_get, api_post, get_result, compute_quantity, how_much_i_have\n",
    "import numpy as np\n",
    "import pandas as pd\n",
    "\n",
    "# Carregando modelo criado no notebook anterior\n",
    "model = pickle.load(open('model_dummy.pickle', 'rb'))\n",
    "token = 'token_dummy_001'\n",
    "ticker = 'DOGEUSDT'\n",
    "valor_compra_venda = 10\n",
    "\n",
    "# Loop que checa o preço a cada minuto e toma as decisões de compra e venda.\n",
    "while True:\n",
    "    # Pegando o OHLC dos últimos 500 minutos\n",
    "    df = api_post('cripto_quotation', {'token': token, 'ticker': ticker})\n",
    "    \n",
    "    # Realizando a engenharia de features\n",
    "    df = feature_eng(df)\n",
    "    \n",
    "    # Isolando a linha mais recente\n",
    "    df_last = df.iloc[[np.argmax(df['time'])]]\n",
    "    \n",
    "    # Calculando tendência, baseada no modelo linear criado\n",
    "    tendencia = model.predict(df_last).iloc[0]\n",
    "    \n",
    "    # A quantidade de cripto que será comprada/ vendida depende do valor_compra_venda e da cotação atual\n",
    "    qtdade = compute_quantity(coin_value = df_last['close'], invest_value = valor_compra_venda, significant_digits = 2)\n",
    "    \n",
    "    # Print do datetime atual\n",
    "    print('-------------------')\n",
    "    now = pd.to_datetime('now')\n",
    "    print(f'{now}')\n",
    "    \n",
    "    if tendencia > 0.02:\n",
    "        # Modelo detectou uma tendência positiva\n",
    "        print(f\"Tendência positiva de {str(tendencia)}\")\n",
    "        \n",
    "        # Verifica quanto dinheiro tem em caixa\n",
    "        qtdade_money = how_much_i_have('money', token)\n",
    "        \n",
    "        if qtdade_money>0:\n",
    "            # Se tem dinheiro, tenta comprar o equivalente a qtdade ou o máximo que o dinheiro permitir\n",
    "            max_qtdade = compute_quantity(coin_value = df_last['close'], invest_value = qtdade_money, significant_digits = 2)\n",
    "            qtdade = min(qtdade, max_qtdade)\n",
    "            \n",
    "            # Realizando a compra\n",
    "            print(f'Comprando {str(qtdade)} {ticker}')\n",
    "            api_post('buy', payload = {'token': token, 'ticker': ticker, 'quantity': qtdade})\n",
    "        \n",
    "    elif tendencia < -0.02:\n",
    "        # Modelo detectou uma tendência negativa\n",
    "        print(f\"Tendência negativa de {str(tendencia)}\")\n",
    "        \n",
    "        # Verifica quanto tem da moeda em caixa\n",
    "        qtdade_coin = how_much_i_have(ticker, token)\n",
    "        \n",
    "        if qtdade_coin>0:\n",
    "            # Se tenho a moeda, vou vender!\n",
    "            qtdade = min(qtdade_coin, qtdade)\n",
    "            print(f'Vendendo {str(qtdade)} {ticker}')\n",
    "            api_post('sell', payload = {'token': token, 'ticker': ticker, 'quantity':qtdade})\n",
    "    else:\n",
    "        # Não faz nenhuma ação, espera próximo loop\n",
    "        print(f\"Tendência neutra de {str(tendencia)}. Nenhuma ação realizada\")\n",
    "    \n",
    "    # Print do status após cada iteração\n",
    "    print(api_post('status', payload = {'token': token}))\n",
    "    time.sleep(60)"
   ]
  }
 ],
 "metadata": {
  "interpreter": {
   "hash": "31f2aee4e71d21fbe5cf8b01ff0e069b9275f58929596ceb00d14d90e3e16cd6"
  },
  "kernelspec": {
   "display_name": "Python 3.8.2 64-bit",
   "language": "python",
   "name": "python3"
  },
  "language_info": {
   "codemirror_mode": {
    "name": "ipython",
    "version": 3
   },
   "file_extension": ".py",
   "mimetype": "text/x-python",
   "name": "python",
   "nbconvert_exporter": "python",
   "pygments_lexer": "ipython3",
   "version": "3.8.2"
  },
  "orig_nbformat": 4
 },
 "nbformat": 4,
 "nbformat_minor": 2
}
