{
 "cells": [
  {
   "cell_type": "markdown",
   "metadata": {},
   "source": [
    "## Trabalho P2 - Robo Cripto Nonato\n",
    "Aluno: Rafael Nonato Silva\n",
    "Orientado por: Bernardo Aflalo\n",
    "O objetivo é criar um robô para operar criptomoedas"
   ]
  },
  {
   "cell_type": "markdown",
   "metadata": {},
   "source": [
    "Nesta plataforma, todas as transações são fictícias, envolvendo apenas valores simulados. Apesar disso, todas as cotações das criptomoedas são consultadas em tempo real, o que permite que os alunos sejam livres para criarem features que envolvam variáveis externas, como notícias, sentimentos em redes sociais, variáveis macroeconômicas etc.\n",
    "\n",
    "Por que esse trabalho?\n",
    "O objetivo é resolvermos um problema de série temporal, deixando os alunos livres para escolherem a técnica. Posto desta maneira, este trabalho pode ser realizado utilizando:\n",
    "\n",
    "Modelos tradicionais de Machine Learning, como o template fornecido\n",
    "Modelos tradicionais de séries temporais, como ARIMA\n",
    "Modelos de Deep Learning\n",
    "Modelos de Redes Recorrentes, como LSTM ou GRU\n",
    "Além de ser um trabalho que permite uma ampla gama de estratégias e modelos, é um bom exemplo de modelos reais em produção. Além disso, deixa clara a dificuldade que é criar soluções para operar ativos de maneira automática.\n",
    "\n",
    "Por onde começar\n",
    "Criação do token individual\n",
    "Cada um deve entrar na plataforma https://cripto-dash.herokuapp.com/ para gerar o próprio token. Para isso, usem o menu da esquerda, preenchendo:\n",
    "\n",
    "O nome do robô: fique à vontade para inventar o nome, mas saiba que ele irá aparecer nos rankings dessa página\n",
    "Descrição: opcional, é uma descrição que irá aparecer ao lado do nome\n",
    "Imagem: opcional, atualmente não utilizado\n",
    "ID de Grupo: Digitar id do grupo, conforme passado pelo professor em sala\n",
    "Clique no botão “Gerar Token!”. Anote o token que aparecerá na tela. Se tiver qualquer problema, mande um email para bernardo.aflalo@gmail.com ou uma msg no linkedin https://www.linkedin.com/in/bernardo-aflalo-b0a26550/.\n",
    "\n",
    "Clone do repositório exemplo\n",
    "Utilizar o template de notebook fornecido em: https://github.com/BernardoAflalo/cripto-simulator-client. Substitui o token ‘token_dummy_001’ nos notebooks pelo token que vocês geraram no passo anterior. Leia a descrição no repositório para mais detalhes. Objetivo específico do trabalho\n",
    "\n",
    "Explorar os dados históricos das cotações das criptomoedas (1_treino_simples.ipynb)\n",
    "Criar features que possam ser relevantes para o problema. Sejam criativos! Como os dados de cotação são reais e avaliados em tempo real, nada impede que vocês criem features baseado em notícias, sentimentos de redes sociais etc (1_treino_simples.ipynb)\n",
    "Testar modelos diferentes, explorar diferente hiperparâmetros. Será considerado diferencial o uso de deep learning e redes recorrentes (1_treino_simples.ipynb)\n",
    "Rodar o robô por alguns minutos, para que ele possa operar de fato no mercado. Rodar sempre com o time.sleep(60) entre loops (2_my_robot.ipynb) para que o robô acesse a API apenas uma vez por minuto\n",
    "Para este trabalho, não é necessário criar a API final do robô (conforme notebook 3_api_robot.ipynb)!"
   ]
  },
  {
   "cell_type": "markdown",
   "metadata": {},
   "source": [
    "## Os critérios de avaliação:\n",
    "\n",
    "- Processo de resolução do problema\n",
    "- Features Criadas\n",
    "- Escolha de modelos e tratamentos realizados, juntamente com as explicações\n",
    "- Organização do código Atenção: os notebooks são fornecidos para facilitar o trabalho de vocês, permitindo que vocês foquem na modelagem, análise, backtest e geração de features! Não serão aceitos trabalhos com nenhuma ou pouca modificação em relação ao template padrão!"
   ]
  },
  {
   "cell_type": "markdown",
   "metadata": {},
   "source": [
    "## Preparação do Python - Mega díficil aqui"
   ]
  },
  {
   "cell_type": "code",
   "execution_count": 3,
   "metadata": {},
   "outputs": [
    {
     "name": "stdout",
     "output_type": "stream",
     "text": [
      "\u001b[33mDEPRECATION: Python 2.7 reached the end of its life on January 1st, 2020. Please upgrade your Python as Python 2.7 is no longer maintained. pip 21.0 will drop support for Python 2.7 in January 2021. More details about Python 2 support in pip can be found at https://pip.pypa.io/en/latest/development/release-process/#python-2-support pip 21.0 will remove support for this functionality.\u001b[0m\n",
      "Defaulting to user installation because normal site-packages is not writeable\n",
      "Collecting ta\n",
      "  Downloading ta-0.8.0.tar.gz (24 kB)\n",
      "Requirement already satisfied: numpy in /Users/nonato/Library/Python/2.7/lib/python/site-packages (from ta) (1.16.6)\n",
      "Requirement already satisfied: pandas in /Users/nonato/Library/Python/2.7/lib/python/site-packages (from ta) (0.24.2)\n",
      "Requirement already satisfied: python-dateutil>=2.5.0 in /Users/nonato/Library/Python/2.7/lib/python/site-packages (from pandas->ta) (2.8.2)\n",
      "Requirement already satisfied: pytz>=2011k in /System/Library/Frameworks/Python.framework/Versions/2.7/Extras/lib/python (from pandas->ta) (2013.7)\n",
      "Requirement already satisfied: six>=1.5 in /Users/nonato/Library/Python/2.7/lib/python/site-packages (from python-dateutil>=2.5.0->pandas->ta) (1.16.0)\n",
      "Building wheels for collected packages: ta\n",
      "  Building wheel for ta (setup.py) ... \u001b[?25ldone\n",
      "\u001b[?25h  Created wheel for ta: filename=ta-0.8.0-py2-none-any.whl size=28897 sha256=fdb88725033c1b8c1c9224da6de6928d5a80b45a8db545f65074c609c537a76b\n",
      "  Stored in directory: /Users/nonato/Library/Caches/pip/wheels/7c/35/6a/7e39d360c680b7193f090df2c78021f02b3fe2144d1929599f\n",
      "Successfully built ta\n",
      "Installing collected packages: ta\n",
      "Successfully installed ta-0.8.0\n"
     ]
    }
   ],
   "source": [
    "!pip install ta"
   ]
  },
  {
   "cell_type": "code",
   "execution_count": 4,
   "metadata": {},
   "outputs": [],
   "source": [
    "# !wget http://prdownloads.sourceforge.net/ta-lib/ta-lib-0.4.0-src.tar.gz\n",
    "# !tar -xzvf ta-lib-0.4.0-src.tar.gz\n",
    "# %cd ta-lib\n",
    "# !./configure --prefix=/usr\n",
    "# !make\n",
    "# !make install\n",
    "# !pip install Ta-Lib"
   ]
  },
  {
   "cell_type": "code",
   "execution_count": 5,
   "metadata": {},
   "outputs": [
    {
     "name": "stdout",
     "output_type": "stream",
     "text": [
      "\u001b[33mDEPRECATION: Python 2.7 reached the end of its life on January 1st, 2020. Please upgrade your Python as Python 2.7 is no longer maintained. pip 21.0 will drop support for Python 2.7 in January 2021. More details about Python 2 support in pip can be found at https://pip.pypa.io/en/latest/development/release-process/#python-2-support pip 21.0 will remove support for this functionality.\u001b[0m\n",
      "Defaulting to user installation because normal site-packages is not writeable\n",
      "Collecting statsmodels\n",
      "  Using cached statsmodels-0.11.0.tar.gz (15.4 MB)\n",
      "  Installing build dependencies ... \u001b[?25ldone\n",
      "\u001b[?25h  Getting requirements to build wheel ... \u001b[?25ldone\n",
      "\u001b[?25h    Preparing wheel metadata ... \u001b[?25ldone\n",
      "\u001b[?25hCollecting scipy>=1.0\n",
      "  Using cached scipy-1.2.3-cp27-cp27m-macosx_10_6_intel.macosx_10_9_intel.macosx_10_9_x86_64.macosx_10_10_intel.macosx_10_10_x86_64.whl (27.4 MB)\n",
      "Requirement already satisfied: numpy>=1.14 in /Users/nonato/Library/Python/2.7/lib/python/site-packages (from statsmodels) (1.16.6)\n",
      "Collecting patsy>=0.5\n",
      "  Downloading patsy-0.5.2-py2.py3-none-any.whl (233 kB)\n",
      "\u001b[K     |████████████████████████████████| 233 kB 3.2 MB/s \n",
      "\u001b[?25hRequirement already satisfied: pandas>=0.21 in /Users/nonato/Library/Python/2.7/lib/python/site-packages (from statsmodels) (0.24.2)\n",
      "Requirement already satisfied: six in /Users/nonato/Library/Python/2.7/lib/python/site-packages (from patsy>=0.5->statsmodels) (1.16.0)\n",
      "Requirement already satisfied: python-dateutil>=2.5.0 in /Users/nonato/Library/Python/2.7/lib/python/site-packages (from pandas>=0.21->statsmodels) (2.8.2)\n",
      "Requirement already satisfied: pytz>=2011k in /System/Library/Frameworks/Python.framework/Versions/2.7/Extras/lib/python (from pandas>=0.21->statsmodels) (2013.7)\n",
      "Building wheels for collected packages: statsmodels\n",
      "  Building wheel for statsmodels (PEP 517) ... \u001b[?25ldone\n",
      "\u001b[?25h  Created wheel for statsmodels: filename=statsmodels-0.11.0-cp27-cp27m-macosx_10_15_x86_64.whl size=8115023 sha256=e1b8b0d4c65cc7b7182c5bca9b4f76a77f4fcb7cf99a5a6931ddd75fda913a78\n",
      "  Stored in directory: /Users/nonato/Library/Caches/pip/wheels/d6/4b/04/4ec67d8a1e51035490e2a56ef2ad5b5dc3481084cdfeefa365\n",
      "Successfully built statsmodels\n",
      "Installing collected packages: scipy, patsy, statsmodels\n",
      "Successfully installed patsy-0.5.2 scipy-1.2.3 statsmodels-0.11.0\n"
     ]
    }
   ],
   "source": [
    "!pip install statsmodels "
   ]
  },
  {
   "cell_type": "code",
   "execution_count": 6,
   "metadata": {},
   "outputs": [],
   "source": [
    "#!pip install --upgrade --no-deps statsmodels"
   ]
  },
  {
   "cell_type": "code",
   "execution_count": 7,
   "metadata": {},
   "outputs": [
    {
     "name": "stdout",
     "output_type": "stream",
     "text": [
      "Cloning into 'cripto-simulator-client'...\n",
      "remote: Enumerating objects: 69, done.\u001b[K\n",
      "remote: Counting objects: 100% (69/69), done.\u001b[K\n",
      "remote: Compressing objects: 100% (64/64), done.\u001b[K\n",
      "remote: Total 69 (delta 31), reused 19 (delta 4), pack-reused 0\u001b[K\n",
      "Unpacking objects: 100% (69/69), done.\n"
     ]
    }
   ],
   "source": [
    "!rm -rf /content/cripto-simulator-client/\n",
    "!git clone https://github.com/BernardoAflalo/cripto-simulator-client.git\n",
    "import sys \n",
    "import os\n",
    "sys.path.append(os.path.abspath(\"/content/cripto-simulator-client/\"))"
   ]
  },
  {
   "cell_type": "code",
   "execution_count": 9,
   "metadata": {},
   "outputs": [
    {
     "ename": "ModuleNotFoundError",
     "evalue": "No module named 'sklearn'",
     "output_type": "error",
     "traceback": [
      "\u001b[0;31m---------------------------------------------------------------------------\u001b[0m",
      "\u001b[0;31mModuleNotFoundError\u001b[0m                       Traceback (most recent call last)",
      "\u001b[0;32m/var/folders/3t/lbzqfqbn3373dpnxw4hbwg500000gn/T/ipykernel_22552/455328235.py\u001b[0m in \u001b[0;36m<module>\u001b[0;34m\u001b[0m\n\u001b[1;32m      1\u001b[0m \u001b[0;32mfrom\u001b[0m \u001b[0mdatetime\u001b[0m \u001b[0;32mimport\u001b[0m \u001b[0mdatetime\u001b[0m\u001b[0;34m\u001b[0m\u001b[0;34m\u001b[0m\u001b[0m\n\u001b[0;32m----> 2\u001b[0;31m \u001b[0;32mfrom\u001b[0m \u001b[0msklearn\u001b[0m\u001b[0;34m.\u001b[0m\u001b[0mmodel_selection\u001b[0m \u001b[0;32mimport\u001b[0m \u001b[0mtrain_test_split\u001b[0m\u001b[0;34m\u001b[0m\u001b[0;34m\u001b[0m\u001b[0m\n\u001b[0m\u001b[1;32m      3\u001b[0m \u001b[0;32mimport\u001b[0m \u001b[0mstatsmodels\u001b[0m \u001b[0;32mas\u001b[0m \u001b[0msm\u001b[0m\u001b[0;34m\u001b[0m\u001b[0;34m\u001b[0m\u001b[0m\n\u001b[1;32m      4\u001b[0m \u001b[0;32mimport\u001b[0m \u001b[0mmatplotlib\u001b[0m\u001b[0;34m.\u001b[0m\u001b[0mpyplot\u001b[0m \u001b[0;32mas\u001b[0m \u001b[0mplt\u001b[0m\u001b[0;34m\u001b[0m\u001b[0;34m\u001b[0m\u001b[0m\n\u001b[1;32m      5\u001b[0m \u001b[0;32mimport\u001b[0m \u001b[0mpandas\u001b[0m \u001b[0;32mas\u001b[0m \u001b[0mpd\u001b[0m\u001b[0;34m\u001b[0m\u001b[0;34m\u001b[0m\u001b[0m\n",
      "\u001b[0;31mModuleNotFoundError\u001b[0m: No module named 'sklearn'"
     ]
    }
   ],
   "source": [
    "from datetime import datetime\n",
    "from sklearn.model_selection import train_test_split\n",
    "import statsmodels as sm\n",
    "import matplotlib.pyplot as plt\n",
    "import pandas as pd\n",
    "import time\n",
    "import json\n",
    "import ta\n",
    "from simple_robot import api_get, api_post, get_result\n",
    "import requests\n",
    "MODEL_FILE = 'jigabyte_model.pickle'\n",
    "MOEDA = 'BTCUSDT'\n",
    "TENDENCIA = 0.04\n",
    "TOKEN = '3d4407c7ceb63a7'\n",
    "\n",
    "print(TOKEN)"
   ]
  },
  {
   "cell_type": "markdown",
   "metadata": {},
   "source": [
    "## Início da validação Criptos"
   ]
  },
  {
   "cell_type": "markdown",
   "metadata": {},
   "source": [
    "### Todas os métodos GET e POST na API"
   ]
  },
  {
   "cell_type": "code",
   "execution_count": 10,
   "metadata": {},
   "outputs": [
    {
     "ename": "NameError",
     "evalue": "name 'api_get' is not defined",
     "output_type": "error",
     "traceback": [
      "\u001b[0;31m---------------------------------------------------------------------------\u001b[0m",
      "\u001b[0;31mNameError\u001b[0m                                 Traceback (most recent call last)",
      "\u001b[0;32m/var/folders/3t/lbzqfqbn3373dpnxw4hbwg500000gn/T/ipykernel_22552/1150155699.py\u001b[0m in \u001b[0;36m<module>\u001b[0;34m\u001b[0m\n\u001b[0;32m----> 1\u001b[0;31m \u001b[0mapi_get\u001b[0m\u001b[0;34m(\u001b[0m\u001b[0;34m'available_cripto'\u001b[0m\u001b[0;34m)\u001b[0m\u001b[0;34m\u001b[0m\u001b[0;34m\u001b[0m\u001b[0m\n\u001b[0m",
      "\u001b[0;31mNameError\u001b[0m: name 'api_get' is not defined"
     ]
    }
   ],
   "source": [
    "api_get('available_cripto')"
   ]
  },
  {
   "cell_type": "code",
   "execution_count": 11,
   "metadata": {},
   "outputs": [
    {
     "ename": "NameError",
     "evalue": "name 'api_post' is not defined",
     "output_type": "error",
     "traceback": [
      "\u001b[0;31m---------------------------------------------------------------------------\u001b[0m",
      "\u001b[0;31mNameError\u001b[0m                                 Traceback (most recent call last)",
      "\u001b[0;32m/var/folders/3t/lbzqfqbn3373dpnxw4hbwg500000gn/T/ipykernel_22552/3817184733.py\u001b[0m in \u001b[0;36m<module>\u001b[0;34m\u001b[0m\n\u001b[0;32m----> 1\u001b[0;31m \u001b[0mapi_post\u001b[0m\u001b[0;34m(\u001b[0m\u001b[0;34m'cripto_quotation'\u001b[0m\u001b[0;34m,\u001b[0m \u001b[0;34m{\u001b[0m\u001b[0;34m'token'\u001b[0m\u001b[0;34m:\u001b[0m \u001b[0mTOKEN\u001b[0m\u001b[0;34m,\u001b[0m \u001b[0;34m'ticker'\u001b[0m\u001b[0;34m:\u001b[0m \u001b[0mMOEDA\u001b[0m\u001b[0;34m}\u001b[0m\u001b[0;34m)\u001b[0m\u001b[0;34m\u001b[0m\u001b[0;34m\u001b[0m\u001b[0m\n\u001b[0m",
      "\u001b[0;31mNameError\u001b[0m: name 'api_post' is not defined"
     ]
    }
   ],
   "source": [
    "api_post('cripto_quotation', {'token': TOKEN, 'ticker': MOEDA})"
   ]
  },
  {
   "cell_type": "code",
   "execution_count": 12,
   "metadata": {},
   "outputs": [
    {
     "ename": "NameError",
     "evalue": "name 'api_post' is not defined",
     "output_type": "error",
     "traceback": [
      "\u001b[0;31m---------------------------------------------------------------------------\u001b[0m",
      "\u001b[0;31mNameError\u001b[0m                                 Traceback (most recent call last)",
      "\u001b[0;32m/var/folders/3t/lbzqfqbn3373dpnxw4hbwg500000gn/T/ipykernel_22552/2476693347.py\u001b[0m in \u001b[0;36m<module>\u001b[0;34m\u001b[0m\n\u001b[0;32m----> 1\u001b[0;31m \u001b[0mapi_post\u001b[0m\u001b[0;34m(\u001b[0m\u001b[0;34m'status'\u001b[0m\u001b[0;34m,\u001b[0m \u001b[0mpayload\u001b[0m \u001b[0;34m=\u001b[0m \u001b[0;34m{\u001b[0m\u001b[0;34m'token'\u001b[0m\u001b[0;34m:\u001b[0m \u001b[0mTOKEN\u001b[0m\u001b[0;34m}\u001b[0m\u001b[0;34m)\u001b[0m\u001b[0;34m\u001b[0m\u001b[0;34m\u001b[0m\u001b[0m\n\u001b[0m",
      "\u001b[0;31mNameError\u001b[0m: name 'api_post' is not defined"
     ]
    }
   ],
   "source": [
    "api_post('status', payload = {'token': TOKEN})"
   ]
  },
  {
   "cell_type": "code",
   "execution_count": null,
   "metadata": {},
   "outputs": [],
   "source": [
    "api_post('buy', payload = {'token': TOKEN, 'ticker': MOEDA, 'quantity': 0.002})"
   ]
  },
  {
   "cell_type": "code",
   "execution_count": 13,
   "metadata": {},
   "outputs": [
    {
     "ename": "NameError",
     "evalue": "name 'api_post' is not defined",
     "output_type": "error",
     "traceback": [
      "\u001b[0;31m---------------------------------------------------------------------------\u001b[0m",
      "\u001b[0;31mNameError\u001b[0m                                 Traceback (most recent call last)",
      "\u001b[0;32m/var/folders/3t/lbzqfqbn3373dpnxw4hbwg500000gn/T/ipykernel_22552/2476693347.py\u001b[0m in \u001b[0;36m<module>\u001b[0;34m\u001b[0m\n\u001b[0;32m----> 1\u001b[0;31m \u001b[0mapi_post\u001b[0m\u001b[0;34m(\u001b[0m\u001b[0;34m'status'\u001b[0m\u001b[0;34m,\u001b[0m \u001b[0mpayload\u001b[0m \u001b[0;34m=\u001b[0m \u001b[0;34m{\u001b[0m\u001b[0;34m'token'\u001b[0m\u001b[0;34m:\u001b[0m \u001b[0mTOKEN\u001b[0m\u001b[0;34m}\u001b[0m\u001b[0;34m)\u001b[0m\u001b[0;34m\u001b[0m\u001b[0;34m\u001b[0m\u001b[0m\n\u001b[0m",
      "\u001b[0;31mNameError\u001b[0m: name 'api_post' is not defined"
     ]
    }
   ],
   "source": [
    "api_post('status', payload = {'token': TOKEN})"
   ]
  },
  {
   "cell_type": "code",
   "execution_count": 14,
   "metadata": {},
   "outputs": [
    {
     "ename": "NameError",
     "evalue": "name 'api_post' is not defined",
     "output_type": "error",
     "traceback": [
      "\u001b[0;31m---------------------------------------------------------------------------\u001b[0m",
      "\u001b[0;31mNameError\u001b[0m                                 Traceback (most recent call last)",
      "\u001b[0;32m/var/folders/3t/lbzqfqbn3373dpnxw4hbwg500000gn/T/ipykernel_22552/3228767837.py\u001b[0m in \u001b[0;36m<module>\u001b[0;34m\u001b[0m\n\u001b[0;32m----> 1\u001b[0;31m \u001b[0mapi_post\u001b[0m\u001b[0;34m(\u001b[0m\u001b[0;34m'history'\u001b[0m\u001b[0;34m,\u001b[0m \u001b[0mpayload\u001b[0m \u001b[0;34m=\u001b[0m \u001b[0;34m{\u001b[0m\u001b[0;34m'token'\u001b[0m\u001b[0;34m:\u001b[0m \u001b[0mTOKEN\u001b[0m\u001b[0;34m}\u001b[0m\u001b[0;34m)\u001b[0m\u001b[0;34m\u001b[0m\u001b[0;34m\u001b[0m\u001b[0m\n\u001b[0m",
      "\u001b[0;31mNameError\u001b[0m: name 'api_post' is not defined"
     ]
    }
   ],
   "source": [
    "api_post('history', payload = {'token': TOKEN})"
   ]
  },
  {
   "cell_type": "code",
   "execution_count": 15,
   "metadata": {},
   "outputs": [
    {
     "ename": "NameError",
     "evalue": "name 'api_post' is not defined",
     "output_type": "error",
     "traceback": [
      "\u001b[0;31m---------------------------------------------------------------------------\u001b[0m",
      "\u001b[0;31mNameError\u001b[0m                                 Traceback (most recent call last)",
      "\u001b[0;32m/var/folders/3t/lbzqfqbn3373dpnxw4hbwg500000gn/T/ipykernel_22552/3281523132.py\u001b[0m in \u001b[0;36m<module>\u001b[0;34m\u001b[0m\n\u001b[0;32m----> 1\u001b[0;31m \u001b[0mapi_post\u001b[0m\u001b[0;34m(\u001b[0m\u001b[0;34m'sell'\u001b[0m\u001b[0;34m,\u001b[0m \u001b[0mpayload\u001b[0m \u001b[0;34m=\u001b[0m \u001b[0;34m{\u001b[0m\u001b[0;34m'token'\u001b[0m\u001b[0;34m:\u001b[0m \u001b[0mTOKEN\u001b[0m\u001b[0;34m,\u001b[0m \u001b[0;34m'ticker'\u001b[0m\u001b[0;34m:\u001b[0m \u001b[0mMOEDA\u001b[0m\u001b[0;34m,\u001b[0m \u001b[0;34m'quantity'\u001b[0m\u001b[0;34m:\u001b[0m \u001b[0;36m0.002\u001b[0m\u001b[0;34m}\u001b[0m\u001b[0;34m)\u001b[0m\u001b[0;34m\u001b[0m\u001b[0;34m\u001b[0m\u001b[0m\n\u001b[0m",
      "\u001b[0;31mNameError\u001b[0m: name 'api_post' is not defined"
     ]
    }
   ],
   "source": [
    "api_post('sell', payload = {'token': TOKEN, 'ticker': MOEDA, 'quantity': 0.002})"
   ]
  },
  {
   "cell_type": "code",
   "execution_count": 16,
   "metadata": {},
   "outputs": [
    {
     "ename": "NameError",
     "evalue": "name 'api_post' is not defined",
     "output_type": "error",
     "traceback": [
      "\u001b[0;31m---------------------------------------------------------------------------\u001b[0m",
      "\u001b[0;31mNameError\u001b[0m                                 Traceback (most recent call last)",
      "\u001b[0;32m/var/folders/3t/lbzqfqbn3373dpnxw4hbwg500000gn/T/ipykernel_22552/2476693347.py\u001b[0m in \u001b[0;36m<module>\u001b[0;34m\u001b[0m\n\u001b[0;32m----> 1\u001b[0;31m \u001b[0mapi_post\u001b[0m\u001b[0;34m(\u001b[0m\u001b[0;34m'status'\u001b[0m\u001b[0;34m,\u001b[0m \u001b[0mpayload\u001b[0m \u001b[0;34m=\u001b[0m \u001b[0;34m{\u001b[0m\u001b[0;34m'token'\u001b[0m\u001b[0;34m:\u001b[0m \u001b[0mTOKEN\u001b[0m\u001b[0;34m}\u001b[0m\u001b[0;34m)\u001b[0m\u001b[0;34m\u001b[0m\u001b[0;34m\u001b[0m\u001b[0m\n\u001b[0m",
      "\u001b[0;31mNameError\u001b[0m: name 'api_post' is not defined"
     ]
    }
   ],
   "source": [
    "api_post('status', payload = {'token': TOKEN})"
   ]
  },
  {
   "cell_type": "markdown",
   "metadata": {},
   "source": [
    "## Capturando os Dados"
   ]
  },
  {
   "cell_type": "markdown",
   "metadata": {},
   "source": [
    "### Import do Dataset"
   ]
  },
  {
   "cell_type": "code",
   "execution_count": 17,
   "metadata": {},
   "outputs": [
    {
     "ename": "NameError",
     "evalue": "name 'api_get' is not defined",
     "output_type": "error",
     "traceback": [
      "\u001b[0;31m---------------------------------------------------------------------------\u001b[0m",
      "\u001b[0;31mNameError\u001b[0m                                 Traceback (most recent call last)",
      "\u001b[0;32m/var/folders/3t/lbzqfqbn3373dpnxw4hbwg500000gn/T/ipykernel_22552/1270789974.py\u001b[0m in \u001b[0;36m<module>\u001b[0;34m\u001b[0m\n\u001b[1;32m     16\u001b[0m \u001b[0mETH\u001b[0m\u001b[0;34m=\u001b[0m \u001b[0;34m'https://drive.google.com/u/0/uc?id=1b2nqwR11tWWZ8B1R3AXUB_iCuu1oELm6&export=download'\u001b[0m\u001b[0;34m\u001b[0m\u001b[0;34m\u001b[0m\u001b[0m\n\u001b[1;32m     17\u001b[0m \u001b[0;34m\u001b[0m\u001b[0m\n\u001b[0;32m---> 18\u001b[0;31m \u001b[0mapi_get\u001b[0m\u001b[0;34m(\u001b[0m\u001b[0mAPI_GET_ACTIONS\u001b[0m\u001b[0;34m.\u001b[0m\u001b[0mavailable_cripto\u001b[0m\u001b[0;34m.\u001b[0m\u001b[0mvalue\u001b[0m\u001b[0;34m)\u001b[0m\u001b[0;34m\u001b[0m\u001b[0;34m\u001b[0m\u001b[0m\n\u001b[0m",
      "\u001b[0;31mNameError\u001b[0m: name 'api_get' is not defined"
     ]
    }
   ],
   "source": [
    "# Os tres tipos de moedas\n",
    "from enum import Enum\n",
    "class API_GET_ACTIONS(Enum):\n",
    "  available_cripto = 'available_cripto'\n",
    "\n",
    "from enum import Enum\n",
    "class API_POST_ACTIONS(Enum):\n",
    "  cripto_quotation = 'cripto_quotation',\n",
    "  buy = 'buy',\n",
    "  sell = 'sell',\n",
    "  history = 'history',\n",
    "  status = 'status'\n",
    "\n",
    "BTC= 'https://drive.google.com/u/0/uc?id=1K1-mXTk426z8ZvbmWrx8zrbC-C6GxxGg&export=download'\n",
    "DOGE= 'https://drive.google.com/u/0/uc?id=17c2r9qbnsxPVxaYukrp6vhTY-CQy8WZa&export=download'\n",
    "ETH= 'https://drive.google.com/u/0/uc?id=1b2nqwR11tWWZ8B1R3AXUB_iCuu1oELm6&export=download'\n",
    "\n",
    "api_get(API_GET_ACTIONS.available_cripto.value)"
   ]
  },
  {
   "cell_type": "code",
   "execution_count": 19,
   "metadata": {},
   "outputs": [
    {
     "ename": "NameError",
     "evalue": "name 'pd' is not defined",
     "output_type": "error",
     "traceback": [
      "\u001b[0;31m---------------------------------------------------------------------------\u001b[0m",
      "\u001b[0;31mNameError\u001b[0m                                 Traceback (most recent call last)",
      "\u001b[0;32m/var/folders/3t/lbzqfqbn3373dpnxw4hbwg500000gn/T/ipykernel_22552/2042152876.py\u001b[0m in \u001b[0;36m<module>\u001b[0;34m\u001b[0m\n\u001b[0;32m----> 1\u001b[0;31m \u001b[0mdf\u001b[0m \u001b[0;34m=\u001b[0m \u001b[0mpd\u001b[0m\u001b[0;34m.\u001b[0m\u001b[0mread_parquet\u001b[0m\u001b[0;34m(\u001b[0m\u001b[0mBTC\u001b[0m\u001b[0;34m)\u001b[0m\u001b[0;34m\u001b[0m\u001b[0;34m\u001b[0m\u001b[0m\n\u001b[0m\u001b[1;32m      2\u001b[0m \u001b[0mdf\u001b[0m\u001b[0;34m.\u001b[0m\u001b[0mcolumns\u001b[0m\u001b[0;34m\u001b[0m\u001b[0;34m\u001b[0m\u001b[0m\n",
      "\u001b[0;31mNameError\u001b[0m: name 'pd' is not defined"
     ]
    }
   ],
   "source": [
    "df = pd.read_parquet(BTC)\n",
    "df.columns"
   ]
  },
  {
   "cell_type": "code",
   "execution_count": 18,
   "metadata": {},
   "outputs": [
    {
     "ename": "NameError",
     "evalue": "name 'df' is not defined",
     "output_type": "error",
     "traceback": [
      "\u001b[0;31m---------------------------------------------------------------------------\u001b[0m",
      "\u001b[0;31mNameError\u001b[0m                                 Traceback (most recent call last)",
      "\u001b[0;32m/var/folders/3t/lbzqfqbn3373dpnxw4hbwg500000gn/T/ipykernel_22552/264695096.py\u001b[0m in \u001b[0;36m<module>\u001b[0;34m\u001b[0m\n\u001b[0;32m----> 1\u001b[0;31m \u001b[0mdf\u001b[0m\u001b[0;34m.\u001b[0m\u001b[0msort_values\u001b[0m\u001b[0;34m(\u001b[0m\u001b[0mby\u001b[0m\u001b[0;34m=\u001b[0m\u001b[0;34m'datetime'\u001b[0m\u001b[0;34m)\u001b[0m\u001b[0;34m\u001b[0m\u001b[0;34m\u001b[0m\u001b[0m\n\u001b[0m\u001b[1;32m      2\u001b[0m \u001b[0mdf\u001b[0m\u001b[0;34m.\u001b[0m\u001b[0mtail\u001b[0m\u001b[0;34m(\u001b[0m\u001b[0;36m3\u001b[0m\u001b[0;34m)\u001b[0m\u001b[0;34m\u001b[0m\u001b[0;34m\u001b[0m\u001b[0m\n",
      "\u001b[0;31mNameError\u001b[0m: name 'df' is not defined"
     ]
    }
   ],
   "source": [
    "df.sort_values(by='datetime')\n",
    "df.tail(3)"
   ]
  },
  {
   "cell_type": "markdown",
   "metadata": {},
   "source": [
    "## Enginnering Feature | ***Momento complicado"
   ]
  },
  {
   "cell_type": "markdown",
   "metadata": {},
   "source": [
    "### Dados"
   ]
  },
  {
   "cell_type": "code",
   "execution_count": 21,
   "metadata": {},
   "outputs": [],
   "source": [
    "def getTarget(adx, adx_diff, awesome_0, awesome_1, macd_diff_0, mac_diff_1):\n",
    "  signal = 0\n",
    "  forca = 0\n",
    "  if(adx>33):\n",
    "    signal = 1\n",
    "  if(adx_diff>10):\n",
    "    forca=forca+1\n",
    "  if(adx_diff<10):\n",
    "    forca=forca-1\n",
    "  if(awesome_0<awesome_1):\n",
    "    forca=forca+1\n",
    "  else:\n",
    "    forca=forca-1\n",
    "  if(macd_diff_0<0 & macd_diff_1>0):\n",
    "    forca=forca+1\n",
    "  if(macd_diff_0>0 & macd_diff_1<0):\n",
    "    forca=forca-1\n",
    "  return signal*forca"
   ]
  },
  {
   "cell_type": "code",
   "execution_count": 22,
   "metadata": {},
   "outputs": [],
   "source": [
    "def jigabyte_feature_eng(df):\n",
    "  result = []\n",
    "  for i in range(1, len(df)):\n",
    "    result = df.iloc[i]\n",
    "    target= getTarget(df.iloc[i]['adx'],df.iloc[i]['adx_diff'],\n",
    "                      df.iloc[i-1]['awesome'],df.iloc[i]['awesome'],\n",
    "                      df.iloc[i-1]['macd_diff'], df.iloc[i]['macd_diff'])\n",
    "    result.append(target)\n",
    "  return pd.Series(result)"
   ]
  },
  {
   "cell_type": "markdown",
   "metadata": {},
   "source": [
    "### Validando os dados"
   ]
  },
  {
   "cell_type": "code",
   "execution_count": 23,
   "metadata": {},
   "outputs": [
    {
     "ename": "NameError",
     "evalue": "name 'data' is not defined",
     "output_type": "error",
     "traceback": [
      "\u001b[0;31m---------------------------------------------------------------------------\u001b[0m",
      "\u001b[0;31mNameError\u001b[0m                                 Traceback (most recent call last)",
      "\u001b[0;32m/var/folders/3t/lbzqfqbn3373dpnxw4hbwg500000gn/T/ipykernel_22552/2385750456.py\u001b[0m in \u001b[0;36m<module>\u001b[0;34m\u001b[0m\n\u001b[0;32m----> 1\u001b[0;31m \u001b[0mdata\u001b[0m\u001b[0;34m.\u001b[0m\u001b[0mtail\u001b[0m\u001b[0;34m(\u001b[0m\u001b[0;36m2\u001b[0m\u001b[0;34m)\u001b[0m\u001b[0;34m\u001b[0m\u001b[0;34m\u001b[0m\u001b[0m\n\u001b[0m",
      "\u001b[0;31mNameError\u001b[0m: name 'data' is not defined"
     ]
    }
   ],
   "source": [
    "data.tail(2)"
   ]
  },
  {
   "cell_type": "code",
   "execution_count": null,
   "metadata": {},
   "outputs": [],
   "source": [
    "series = data.iloc[2].squeeze()\n",
    "type(series)"
   ]
  },
  {
   "cell_type": "code",
   "execution_count": null,
   "metadata": {},
   "outputs": [],
   "source": [
    "len(data)"
   ]
  },
  {
   "cell_type": "code",
   "execution_count": null,
   "metadata": {},
   "outputs": [],
   "source": [
    "for i in range(0, 3):\n",
    "  print(data.iloc[i]['datetime'])"
   ]
  },
  {
   "cell_type": "code",
   "execution_count": null,
   "metadata": {},
   "outputs": [],
   "source": [
    "data['target'] = 0\n",
    "size = len(data)\n",
    "close_last=0\n",
    "for i in range(1, size):\n",
    "  \n",
    "  adx=data.iloc[i]['adx']\n",
    "  adx_diff=data.iloc[i]['adx_diff']\n",
    "  awesome_0=data.iloc[i-1]['awesome']\n",
    "  awesome_1=data.iloc[i]['awesome']\n",
    "  mac_diff_0=data.iloc[i-1]['macd_diff']\n",
    "  mac_diff_1=data.iloc[i]['macd_diff']\n",
    "  close_0=data.iloc[i-1]['close']\n",
    "  close_1=data.iloc[i]['close']\n",
    "  \n",
    "  signal = 0\n",
    "  forca = 0\n",
    "  if(adx>33):\n",
    "    signal = 1\n",
    "  if(adx_diff>10):\n",
    "    forca=forca+1\n",
    "  if(adx_diff<10):\n",
    "    forca=forca-1\n",
    "  if(awesome_0<awesome_1):\n",
    "    forca=forca+1\n",
    "  else:\n",
    "    forca=forca-1\n",
    "  if((mac_diff_0<0) & (mac_diff_1>0)):\n",
    "    forca=forca+1\n",
    "  if((mac_diff_0>0) & (mac_diff_1<0)):\n",
    "    forca=forca-1\n",
    "  target = signal*forca\n",
    "  \n",
    "  if (target != 0):\n",
    "    data.iloc[i]['target']=target\n",
    "    print(i, target, \"valuation:\", close_last-close_1)\n",
    "    close_last=close_1"
   ]
  },
  {
   "cell_type": "markdown",
   "metadata": {},
   "source": [
    "## Criando o Robô | ***Uma dificuldade por aqui também"
   ]
  },
  {
   "cell_type": "code",
   "execution_count": 24,
   "metadata": {},
   "outputs": [
    {
     "ename": "ModuleNotFoundError",
     "evalue": "No module named 'simple_robot'",
     "output_type": "error",
     "traceback": [
      "\u001b[0;31m---------------------------------------------------------------------------\u001b[0m",
      "\u001b[0;31mModuleNotFoundError\u001b[0m                       Traceback (most recent call last)",
      "\u001b[0;32m/var/folders/3t/lbzqfqbn3373dpnxw4hbwg500000gn/T/ipykernel_22552/2303366419.py\u001b[0m in \u001b[0;36m<module>\u001b[0;34m\u001b[0m\n\u001b[1;32m      1\u001b[0m \u001b[0;32mimport\u001b[0m \u001b[0mpickle\u001b[0m\u001b[0;34m\u001b[0m\u001b[0;34m\u001b[0m\u001b[0m\n\u001b[1;32m      2\u001b[0m \u001b[0;32mimport\u001b[0m \u001b[0mtime\u001b[0m\u001b[0;34m\u001b[0m\u001b[0;34m\u001b[0m\u001b[0m\n\u001b[0;32m----> 3\u001b[0;31m \u001b[0;32mfrom\u001b[0m \u001b[0msimple_robot\u001b[0m \u001b[0;32mimport\u001b[0m \u001b[0mfeature_eng\u001b[0m\u001b[0;34m,\u001b[0m \u001b[0mapi_get\u001b[0m\u001b[0;34m,\u001b[0m \u001b[0mapi_post\u001b[0m\u001b[0;34m,\u001b[0m \u001b[0mget_result\u001b[0m\u001b[0;34m,\u001b[0m \u001b[0mcompute_quantity\u001b[0m\u001b[0;34m,\u001b[0m \u001b[0mhow_much_i_have\u001b[0m\u001b[0;34m\u001b[0m\u001b[0;34m\u001b[0m\u001b[0m\n\u001b[0m\u001b[1;32m      4\u001b[0m \u001b[0;32mimport\u001b[0m \u001b[0mnumpy\u001b[0m \u001b[0;32mas\u001b[0m \u001b[0mnp\u001b[0m\u001b[0;34m\u001b[0m\u001b[0;34m\u001b[0m\u001b[0m\n\u001b[1;32m      5\u001b[0m \u001b[0;32mimport\u001b[0m \u001b[0mpandas\u001b[0m \u001b[0;32mas\u001b[0m \u001b[0mpd\u001b[0m\u001b[0;34m\u001b[0m\u001b[0;34m\u001b[0m\u001b[0m\n",
      "\u001b[0;31mModuleNotFoundError\u001b[0m: No module named 'simple_robot'"
     ]
    }
   ],
   "source": [
    "import pickle\n",
    "import time\n",
    "from simple_robot import feature_eng, api_get, api_post, get_result, compute_quantity, how_much_i_have\n",
    "import numpy as np\n",
    "import pandas as pd\n",
    "\n",
    "model = pickle.load(open(MODEL_FILE, 'rb'))\n",
    "valor_compra_venda = 10\n",
    "\n",
    "while True:\n",
    "    df = api_post('cripto_quotation', {'token': TOKEN, 'ticker': MOEDA})\n",
    "    \n",
    "    df = feature_eng(df)\n",
    "    \n",
    "    df_last = df.iloc[[np.argmax(df['time'])]]\n",
    "\n",
    "    tendencia = model.predict(df_last).iloc[0]\n",
    "    \n",
    "    qtdade = compute_quantity(coin_value = df_last['close'], invest_value = valor_compra_venda, significant_digits = 2)\n",
    "    \n",
    "    print('-------------------')\n",
    "    now = pd.to_datetime('now')\n",
    "    print(f'{now}')\n",
    "    \n",
    "    if tendencia > 0.02:\n",
    "        print(f\"Tendência positiva de {str(tendencia)}\")\n",
    "        \n",
    "        qtdade_money = how_much_i_have('money', TOKEN)\n",
    "        \n",
    "        if qtdade_money>0:\n",
    "            max_qtdade = compute_quantity(coin_value = df_last['close'], invest_value = qtdade_money, significant_digits = 2)\n",
    "            qtdade = min(qtdade, max_qtdade)\n",
    "            \n",
    "            print(f'Comprando {str(qtdade)} {ticker}')\n",
    "            api_post('buy', payload = {'token': TOKEN, 'ticker': MOEDA, 'quantity': qtdade})\n",
    "        \n",
    "    elif tendencia < -0.02:\n",
    "        print(f\"Tendência negativa de {str(tendencia)}\")\n",
    "        \n",
    "        qtdade_coin = how_much_i_have(MOEDA, TOKEN)\n",
    "        \n",
    "        if qtdade_coin>0:\n",
    "            qtdade = min(qtdade_coin, qtdade)\n",
    "            print(f'Vendendo {str(qtdade)} {MOEDA}')\n",
    "            api_post('sell', payload = {'token': TOKEN, 'ticker': MOEDA, 'quantity':qtdade})\n",
    "    else:\n",
    "        print(f\"Tendência neutra de {str(tendencia)}. Nenhuma ação realizada\")\n",
    "    \n",
    "    print(api_post('status', payload = {'token': TOKEN}))\n",
    "    time.sleep(60)"
   ]
  },
  {
   "cell_type": "markdown",
   "metadata": {},
   "source": [
    "# Fim\n",
    "\n",
    "### Daqui pra baixo eu utilizei como referencia para o código acima\n"
   ]
  },
  {
   "cell_type": "code",
   "execution_count": null,
   "metadata": {},
   "outputs": [],
   "source": [
    "def api_post(route, payload):\n",
    "    url = urlbase + route\n",
    "    x = requests.post(url, data=payload)\n",
    "    df = get_result(x)\n",
    "    if type(df) == pd.core.frame.DataFrame:\n",
    "        if 'datetime' in df.columns:\n",
    "            df['datetime'] = pd.to_datetime(df['datetime'], unit='ms')\n",
    "    return df\n",
    "\n",
    "def api_get(route):\n",
    "    url = urlbase + route\n",
    "    x = requests.get(url)\n",
    "    df = get_result(x)\n",
    "    return df\n",
    "\n",
    "def compute_quantity(coin_value, invest_value, significant_digits):\n",
    "    a_number = invest_value / coin_value\n",
    "    rounded_number = round(a_number, significant_digits - int(math.floor(math.log10(abs(a_number)))) - 1)\n",
    "    print(rounded_number)\n",
    "    return rounded_number  # .iloc[0]"
   ]
  },
  {
   "cell_type": "code",
   "execution_count": null,
   "metadata": {},
   "outputs": [],
   "source": [
    "\n",
    "\n",
    "# Calculando qual a média de close dos próximos 10min\n",
    "df['forward_average'] = df[::-1]['close'].rolling(10).mean()[::-1].shift(-1)\n",
    "\n",
    "# Target será a diferença percentual do 'forward_average' com o 'close' atual \n",
    "df['target'] = 100*(df['forward_average'] - df['close']) / df['close']\n",
    "\n",
    "test_treshold = '2021-06-01 00:00:00'\n",
    "\n",
    "train = df[df.index <= test_treshold]\n",
    "test = df[df.index > test_treshold]\n",
    "\n",
    "X_train = train.drop(columns=['target'])\n",
    "y_train = train['target']\n",
    "\n",
    "X_test = test.drop(columns=['target'])\n",
    "y_test = test['target']\n",
    "\n",
    "# Modelo linear simples\n",
    "model = sm.OLS(y_train,X_train).fit()\n",
    "model.summary()\n",
    "\n",
    "y_hat = model.predict(X_test)\n",
    "MSE = ((y_hat - y_test)**2).mean()\n",
    "\n",
    "MSE_assuming_all_zero = (y_test**2).mean()\n",
    "MSE_assuming_all_zero\n",
    "\n",
    "MAE_assuming_all_zero = (y_test.abs()).mean()\n",
    "MAE_assuming_all_zero\n",
    "\n",
    "# Salvando o modelo em um arquivo pickle para ser utilizado nas etapas seguintes\n",
    "filename = 'model_dummy.pickle'\n",
    "pickle.dump(model, open(filename, 'wb'))"
   ]
  },
  {
   "cell_type": "code",
   "execution_count": null,
   "metadata": {},
   "outputs": [],
   "source": [
    "\n",
    "def how_much_i_have(ticker, token):\n",
    "    status = api_post('status', payload={'token': token})\n",
    "    status_this_coin = status.query(f\"ticker == '{ticker}'\")\n",
    "    if status_this_coin.shape[0] > 0:\n",
    "        return status_this_coin['quantity'].iloc[0]\n",
    "    else:\n",
    "        return 0"
   ]
  },
  {
   "cell_type": "code",
   "execution_count": null,
   "metadata": {},
   "outputs": [],
   "source": [
    "\n",
    "def my_robot(tempo, token):\n",
    "    # model = pickle.load(open('nosso_modelo.pickle', 'rb'))\n",
    "    #  model = pickle.load(open('nosso_modelo.pkl', 'rb'))\n",
    "    ticker = 'BTCUSDT'\n",
    "    count_iter = 0\n",
    "    valor_compra_venda = 10\n",
    "\n",
    "    while count_iter < tempo:\n",
    "\n",
    "        # Pegando o OHLC dos últimos 500 minutos\n",
    "        df = api_post('cripto_quotation', {'token': token, 'ticker': ticker})\n",
    "\n",
    "        # Realizando a engenharia de features\n",
    "        df = tratamento(df)\n",
    "        print(df)\n",
    "\n",
    "        # Isolando a linha mais recente\n",
    "        df_last = df.iloc[-1]\n",
    "        print(df_last)\n",
    "        # df_last = df.iloc[[np.argmax(df['time'])]]\n",
    "\n",
    "        # Calculando tendência, baseada no modelo linear criado\n",
    "        # tendencia = model.predict(df_last).iloc[0]\n",
    "        tendencia = 1\n",
    "\n",
    "        # A quantidade de cripto que será comprada/ vendida depende do valor_compra_venda e da cotação atual\n",
    "        qtdade = compute_quantity(coin_value=df_last['valor'], invest_value=valor_compra_venda, significant_digits=2)\n",
    "\n",
    "        # Print do datetime atual\n",
    "        print('-------------------')\n",
    "        print(f\"@{pd.to_datetime('now')}\")\n",
    "\n",
    "        if tendencia > 0.02:\n",
    "            # Modelo detectou uma tendência positiva\n",
    "            print(f\"Tendência positiva de {str(tendencia)}\")\n",
    "\n",
    "            # Verifica quanto dinheiro tem em caixa\n",
    "            qtdade_money = how_much_i_have('money', token)\n",
    "\n",
    "            if qtdade_money > 0:\n",
    "                # Se tem dinheiro, tenta comprar o equivalente a qtdade ou o máximo que o dinheiro permitir\n",
    "                max_qtdade = compute_quantity(coin_value=df_last['valor'], invest_value=qtdade_money,\n",
    "                                              significant_digits=2)\n",
    "                qtdade = min(qtdade, max_qtdade)\n",
    "\n",
    "                # Realizando a compra\n",
    "                print(f'Comprando {str(qtdade)} {ticker}')\n",
    "                api_post('buy', payload={'token': token, 'ticker': ticker, 'quantity': qtdade})\n",
    "\n",
    "        elif tendencia < -0.02:\n",
    "            # Modelo detectou uma tendência negativa\n",
    "            print(f\"Tendência negativa de {str(tendencia)}\")\n",
    "\n",
    "            # Verifica quanto tem da moeda em caixa\n",
    "            qtdade_coin = how_much_i_have(ticker, token)\n",
    "\n",
    "            if qtdade_coin > 0:\n",
    "                # Se tenho a moeda, vou vender!\n",
    "                qtdade = min(qtdade_coin, qtdade)\n",
    "                print(f'Vendendo {str(qtdade)} {ticker}')\n",
    "                api_post('sell', payload={'token': token, 'ticker': ticker, 'quantity': qtdade})\n",
    "        else:\n",
    "            # Não faz nenhuma ação, espera próximo loop\n",
    "            print(f\"Tendência neutra de {str(tendencia)}. Nenhuma ação realizada\")\n",
    "\n",
    "        # Print do status após cada iteração\n",
    "        print(api_post('status', payload={'token': token}))\n",
    "        count_iter += 1\n",
    "        time.sleep(60)\n",
    "\n",
    "\n",
    "token = '7815696ecbf1c96e6894b779456d330e'"
   ]
  },
  {
   "cell_type": "code",
   "execution_count": null,
   "metadata": {},
   "outputs": [],
   "source": [
    "\n",
    "app.route(\"/\")\n",
    "def index():\n",
    "    return \"Robo Cripto\"\n",
    "\n",
    "\n",
    "app.route('/wakeup', methods=[\"POST\"])\n",
    "def wakeup():\n",
    "\n",
    "    tempo = int(request.form.get(\"time\"))\n",
    "    if not tempo:\n",
    "        return \"Group token must be provided\", None\n",
    "\n",
    "    my_robot(tempo, token)\n",
    "if __name__ == '__main__':\n",
    "    app.run(debug=True)\n"
   ]
  }
 ],
 "metadata": {
  "interpreter": {
   "hash": "31f2aee4e71d21fbe5cf8b01ff0e069b9275f58929596ceb00d14d90e3e16cd6"
  },
  "kernelspec": {
   "display_name": "Python 3.8.2 64-bit",
   "language": "python",
   "name": "python3"
  },
  "language_info": {
   "codemirror_mode": {
    "name": "ipython",
    "version": 3
   },
   "file_extension": ".py",
   "mimetype": "text/x-python",
   "name": "python",
   "nbconvert_exporter": "python",
   "pygments_lexer": "ipython3",
   "version": "3.8.2"
  },
  "orig_nbformat": 4
 },
 "nbformat": 4,
 "nbformat_minor": 2
}
